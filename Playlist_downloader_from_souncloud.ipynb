{
  "nbformat": 4,
  "nbformat_minor": 0,
  "metadata": {
    "colab": {
      "provenance": []
    },
    "kernelspec": {
      "name": "python3",
      "display_name": "Python 3"
    },
    "language_info": {
      "name": "python"
    }
  },
  "cells": [
    {
      "cell_type": "code",
      "source": [
        "import requests\n",
        "import os\n",
        "import re\n",
        "import zipfile\n",
        "\n",
        "# Replace these with your SoundCloud app credentials\n",
        "CLIENT_ID = \"BIyat3kaxbSqtFEe7vNz0SnTV3RQWAh0\"\n",
        "CLIENT_SECRET = \"e17Pefo7Umbie2frb70weYvRR2tmvonV\"\n",
        "REDIRECT_URI = \"https://soundcloud.com/tobi-fadeyi-12472812\"  # Set this in your app's settings\n",
        "ACCESS_TOKEN = None  # Will store the OAuth token\n",
        "\n",
        "def authenticate():\n",
        "    \"\"\"Authenticate with SoundCloud and get an access token.\"\"\"\n",
        "    global ACCESS_TOKEN\n",
        "    auth_url = \"https://api.soundcloud.com/oauth2/token\"\n",
        "    payload = {\n",
        "        \"client_id\": CLIENT_ID,\n",
        "        \"client_secret\": CLIENT_SECRET,\n",
        "        \"grant_type\": \"client_credentials\",\n",
        "    }\n",
        "\n",
        "    response = requests.post(auth_url, data=payload)\n",
        "\n",
        "    if response.status_code == 200:\n",
        "        ACCESS_TOKEN = response.json().get(\"access_token\")\n",
        "        print(\"Authenticated successfully!\")\n",
        "    else:\n",
        "        print(f\"Failed to authenticate: {response.status_code}, {response.text}\")\n",
        "\n",
        "def get_playlist_metadata(playlist_url):\n",
        "    \"\"\"Fetch playlist metadata from SoundCloud using Authorization header.\"\"\"\n",
        "    if not ACCESS_TOKEN:\n",
        "        print(\"Authenticate first!\")\n",
        "        return None\n",
        "\n",
        "    resolve_url = \"https://api.soundcloud.com/resolve\"\n",
        "    headers = {\n",
        "        \"Authorization\": f\"OAuth {ACCESS_TOKEN}\"\n",
        "    }\n",
        "    params = {\n",
        "        \"url\": playlist_url\n",
        "    }\n",
        "    response = requests.get(resolve_url, headers=headers, params=params)\n",
        "\n",
        "    if response.status_code == 200:\n",
        "        return response.json()\n",
        "    else:\n",
        "        print(f\"Error fetching playlist: {response.status_code}, {response.text}\")\n",
        "        return None\n",
        "\n",
        "def download_tracks(playlist_metadata, save_folder=\"downloads\", zip_filename=\"playlist.zip\"):\n",
        "    \"\"\"Download tracks from the playlist and save them into a ZIP file.\"\"\"\n",
        "    if not os.path.exists(save_folder):\n",
        "        os.makedirs(save_folder)\n",
        "\n",
        "    # Create a ZIP file\n",
        "    zip_path = os.path.join(save_folder, zip_filename)\n",
        "    with zipfile.ZipFile(zip_path, 'w', zipfile.ZIP_DEFLATED) as zipf:\n",
        "        for track in playlist_metadata.get('tracks', []):\n",
        "            track_url = track.get('stream_url')\n",
        "            track_title = track.get('title')\n",
        "\n",
        "            if track_url:\n",
        "                headers = {\n",
        "                    \"Authorization\": f\"OAuth {ACCESS_TOKEN}\"\n",
        "                }\n",
        "                response = requests.get(track_url, headers=headers, stream=True)\n",
        "\n",
        "                if response.status_code == 200:\n",
        "                    # Sanitize file name\n",
        "                    safe_title = re.sub(r'[<>:\"/\\\\|?*]', '_', track_title)\n",
        "                    file_path = os.path.join(save_folder, f\"{safe_title}.mp3\")\n",
        "\n",
        "                    # Save track to file and add it to the ZIP archive\n",
        "                    with open(file_path, 'wb') as file:\n",
        "                        for chunk in response.iter_content(chunk_size=1024):\n",
        "                            file.write(chunk)\n",
        "\n",
        "                    # Add the track to the ZIP file\n",
        "                    zipf.write(file_path, arcname=f\"{safe_title}.mp3\")\n",
        "                    os.remove(file_path)  # Optionally remove the file after adding to the ZIP\n",
        "                    print(f\"Downloaded and added to ZIP: {track_title}\")\n",
        "                else:\n",
        "                    print(f\"Failed to download {track_title}: {response.status_code}\")\n",
        "\n",
        "    print(f\"All tracks downloaded and saved to: {zip_path}\")\n",
        "\n",
        "if __name__ == \"__main__\":\n",
        "    playlist_url = input(\"Enter SoundCloud playlist URL: \")\n",
        "    authenticate()\n",
        "    playlist_metadata = get_playlist_metadata(playlist_url)\n",
        "\n",
        "    if playlist_metadata:\n",
        "        download_tracks(playlist_metadata)\n"
      ],
      "metadata": {
        "colab": {
          "base_uri": "https://localhost:8080/"
        },
        "id": "JwDFDqzObPZL",
        "outputId": "d6d266fa-d537-458f-ee6a-c6e81e89278f"
      },
      "execution_count": 31,
      "outputs": [
        {
          "output_type": "stream",
          "name": "stdout",
          "text": [
            "Enter SoundCloud playlist URL: https://soundcloud.com/jayden-obis/sets/jersey-club?si=fa1c5f1d3e82408ca5f2228dceb67139&utm_source=clipboard&utm_medium=text&utm_campaign=social_sharing\n",
            "Authenticated successfully!\n",
            "Downloaded and added to ZIP: Snooze (Jersey Club) [B Goodie & Mvntana]\n",
            "Downloaded and added to ZIP: Want U (Jersey Club - shonci x fazobeats)\n",
            "Downloaded and added to ZIP: WE COULDA BEEN\n",
            "Downloaded and added to ZIP: In This Darkness (Jersey Club + Brazilian Funk)\n",
            "Downloaded and added to ZIP: i must apologise jersey club X black clover\n",
            "Downloaded and added to ZIP: The Beach GIVEON (JERSEY CLUB)\n",
            "Downloaded and added to ZIP: no idea X jersey club (slowed + reverb)\n",
            "Downloaded and added to ZIP: yo ahh tweakin jigsaw (jersey club)\n",
            "Downloaded and added to ZIP: KilSoSouth - Fallin' Out Jersey Club\n",
            "Downloaded and added to ZIP: Lil Wayne Feat Drake x Future Love Me Jersey Remix (Prod LordParadize)\n",
            "Downloaded and added to ZIP: Nicki Minaj - You Already Know (Jersey Club Remix) (prod. by Ali Beats)\n",
            "Downloaded and added to ZIP: Rich Baby Daddy (jersey club) [fazobeats]\n",
            "Downloaded and added to ZIP: She Know What She Wanted (Jersey Club Remix) (Slowed)\n",
            "Downloaded and added to ZIP: Brent Faiyaz - Been Away (Jersey Club Remix) (prod. by Ali Beats)\n",
            "Downloaded and added to ZIP: Lil Mabu x ChriseanRock - MR. TAKE YA B*TCH x I must apologise (Jersey Club Remix)\n",
            "Downloaded and added to ZIP: Rihanna & Ali Beats - Sex With Me (Jersey Club Remix)\n",
            "Downloaded and added to ZIP: prince of egypt (Jersey Club) [@fazobeats_]\n",
            "Downloaded and added to ZIP: Dont Drop That Jersey Club @prodbykri @jjoziah @darillisbeats\n",
            "Downloaded and added to ZIP: DJ Sliink - Football Anthem (Jersey Club) Extended NFL Hornz\n",
            "Downloaded and added to ZIP: SIN CITY (jersey club) [@fazobeats x @tamecheetahbeats]\n",
            "Downloaded and added to ZIP: DJ Taj, Tricks - Thang for you (Jersey Club)\n",
            "Downloaded and added to ZIP: tell ‘em jersey club remix (prod.jhope!)\n",
            "Downloaded and added to ZIP: Bring it Back Jersey Club\n",
            "Downloaded and added to ZIP: If I got to instrumental (free for non profit use)\n",
            "Downloaded and added to ZIP: TON1GHT (Jersey Club)\n",
            "Downloaded and added to ZIP: DaBaby & Rah L - Shake Sumn (Jersey Club)\n",
            "Downloaded and added to ZIP: Wish You Well - Jersey Club Remix (Lyrics) _Darling I don_t wish you well Jersey Club_ [Tiktok Song]\n",
            "Downloaded and added to ZIP: 22 jayo remix | #JerseyClub\n",
            "Downloaded and added to ZIP: RetroJ - Drive You 2 (Jersey Club)\n",
            "Downloaded and added to ZIP: Npc jersey club\n",
            "Downloaded and added to ZIP: We Are Young (Jersey Club Mix Speed Up) [Extended]\n",
            "Downloaded and added to ZIP: Endless Fashion ( Jersey Club )\n",
            "Downloaded and added to ZIP: jnhygs** - shake that shit (Jersey Club Remix) [PROD. @7.TANAA]\n",
            "Downloaded and added to ZIP: She knows (jersey club) [fazobeats]\n",
            "Downloaded and added to ZIP: motivation jersey club remix\n",
            "Downloaded and added to ZIP: mobbin x wish they knew (yvngsolo cook)\n",
            "Downloaded and added to ZIP: Kyle Richh X Jenn Carter X TaTa - BENT Official Instrumental\n",
            "Downloaded and added to ZIP: jersey luv (feat. B Jack$)\n",
            "Downloaded and added to ZIP: wake up (jersey club beat)\n",
            "Downloaded and added to ZIP: Brent Faiyaz - Rolling Stone (Jersey Club)\n",
            "Downloaded and added to ZIP: CUPID ( DJ SMALLZ 732 JERSEY CLUB REMIX )\n",
            "Downloaded and added to ZIP: Karma (Jersey Club)\n",
            "Downloaded and added to ZIP: \"Airplane Mode\" - @Darillis X @ProdByAbnormal (#RochesterClub #Limbo)\n",
            "Downloaded and added to ZIP: DJ Taj - Open Arms (Jersey Club) [@rjthaadon Anthem] TikTok\n",
            "Downloaded and added to ZIP: get down on it x @chillznyc [spamwithvicc anthem]\n",
            "Downloaded and added to ZIP: Pump It [rrodney]\n",
            "Downloaded and added to ZIP: Get It Girl (jersey club) [fazobeats]\n",
            "All tracks downloaded and saved to: downloads/playlist.zip\n"
          ]
        }
      ]
    },
    {
      "source": [
        "from google.colab import files"
      ],
      "cell_type": "code",
      "metadata": {
        "id": "SSny1rAJiC5E"
      },
      "execution_count": 33,
      "outputs": []
    },
    {
      "source": [
        "files.download('downloads/playlist.zip')"
      ],
      "cell_type": "code",
      "metadata": {
        "colab": {
          "base_uri": "https://localhost:8080/",
          "height": 16
        },
        "id": "Cckr8SfwiEi-",
        "outputId": "564f9445-a28a-45a6-c101-a297ba7dce4a"
      },
      "execution_count": 34,
      "outputs": [
        {
          "output_type": "display_data",
          "data": {
            "text/plain": [
              "<IPython.core.display.Javascript object>"
            ],
            "application/javascript": [
              "\n",
              "    async function download(id, filename, size) {\n",
              "      if (!google.colab.kernel.accessAllowed) {\n",
              "        return;\n",
              "      }\n",
              "      const div = document.createElement('div');\n",
              "      const label = document.createElement('label');\n",
              "      label.textContent = `Downloading \"${filename}\": `;\n",
              "      div.appendChild(label);\n",
              "      const progress = document.createElement('progress');\n",
              "      progress.max = size;\n",
              "      div.appendChild(progress);\n",
              "      document.body.appendChild(div);\n",
              "\n",
              "      const buffers = [];\n",
              "      let downloaded = 0;\n",
              "\n",
              "      const channel = await google.colab.kernel.comms.open(id);\n",
              "      // Send a message to notify the kernel that we're ready.\n",
              "      channel.send({})\n",
              "\n",
              "      for await (const message of channel.messages) {\n",
              "        // Send a message to notify the kernel that we're ready.\n",
              "        channel.send({})\n",
              "        if (message.buffers) {\n",
              "          for (const buffer of message.buffers) {\n",
              "            buffers.push(buffer);\n",
              "            downloaded += buffer.byteLength;\n",
              "            progress.value = downloaded;\n",
              "          }\n",
              "        }\n",
              "      }\n",
              "      const blob = new Blob(buffers, {type: 'application/binary'});\n",
              "      const a = document.createElement('a');\n",
              "      a.href = window.URL.createObjectURL(blob);\n",
              "      a.download = filename;\n",
              "      div.appendChild(a);\n",
              "      a.click();\n",
              "      div.remove();\n",
              "    }\n",
              "  "
            ]
          },
          "metadata": {}
        },
        {
          "output_type": "display_data",
          "data": {
            "text/plain": [
              "<IPython.core.display.Javascript object>"
            ],
            "application/javascript": [
              "download(\"download_4b786dc5-8935-48b9-9c1d-21617378291c\", \"playlist.zip\", 93970400)"
            ]
          },
          "metadata": {}
        }
      ]
    }
  ]
}